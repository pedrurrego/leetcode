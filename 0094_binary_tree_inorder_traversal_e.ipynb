{
 "cells": [
  {
   "cell_type": "code",
   "execution_count": null,
   "metadata": {},
   "outputs": [],
   "source": [
    "class Solution:\n",
    "    def inorderTraversal(self, root: Optional[TreeNode]) -> List[int]: # recursive\n",
    "        if not root:\n",
    "            return []\n",
    "        \n",
    "        else:\n",
    "            return self.inorderTraversal(root.left) + [root.val] + self.inorderTraversal(root.right)\n",
    "\n",
    "\n",
    "    def inorderTraversal(self, root: Optional[TreeNode]) -> List[int]: # iterative\n",
    "               \n",
    "        stack = []\n",
    "        result = []\n",
    "        \n",
    "        while root or stack:        \n",
    "            while root:\n",
    "                stack.append(root)\n",
    "                root = root.left\n",
    "\n",
    "            root = stack.pop()\n",
    "            result.append(root.val)\n",
    "            root = root.right\n",
    "            \n",
    "        return result"
   ]
  }
 ],
 "metadata": {
  "language_info": {
   "name": "python"
  },
  "orig_nbformat": 4
 },
 "nbformat": 4,
 "nbformat_minor": 2
}
