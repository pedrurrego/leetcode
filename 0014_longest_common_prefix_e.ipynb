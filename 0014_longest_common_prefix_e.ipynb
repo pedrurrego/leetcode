{
 "cells": [
  {
   "cell_type": "code",
   "execution_count": 23,
   "metadata": {},
   "outputs": [],
   "source": [
    "strs = [\"flower\",\"flow\",\"floight\"]"
   ]
  },
  {
   "cell_type": "code",
   "execution_count": 24,
   "metadata": {},
   "outputs": [],
   "source": [
    "def longestCommonPrefix_2(strs):\n",
    "\n",
    "    min_len_str = float(\"inf\")\n",
    "    s = \"\"\n",
    "\n",
    "    for i in range(len(strs)): # get the shortest string of the list\n",
    "        if len(strs[i]) < min_len_str:\n",
    "            min_len_str = len(strs[i])\n",
    "        \n",
    "    for i in range(min_len_str): # postion in shortest string of the list\n",
    "        dict_chars = {}\n",
    "        for j in range(len(strs)): # word in strs-list\n",
    "            if j == 0:\n",
    "                dict_chars[strs[0][i]] = 1\n",
    "            else:\n",
    "                if strs[j][i] not in dict_chars:\n",
    "                    return s\n",
    "        \n",
    "        s += strs[0][i]\n",
    "    \n",
    "    return s"
   ]
  },
  {
   "cell_type": "code",
   "execution_count": 25,
   "metadata": {},
   "outputs": [
    {
     "data": {
      "text/plain": [
       "'flo'"
      ]
     },
     "execution_count": 25,
     "metadata": {},
     "output_type": "execute_result"
    }
   ],
   "source": [
    "longestCommonPrefix_2(strs=strs)"
   ]
  },
  {
   "cell_type": "code",
   "execution_count": null,
   "metadata": {},
   "outputs": [],
   "source": []
  }
 ],
 "metadata": {
  "kernelspec": {
   "display_name": "Python 3.9.7 ('base')",
   "language": "python",
   "name": "python3"
  },
  "language_info": {
   "codemirror_mode": {
    "name": "ipython",
    "version": 3
   },
   "file_extension": ".py",
   "mimetype": "text/x-python",
   "name": "python",
   "nbconvert_exporter": "python",
   "pygments_lexer": "ipython3",
   "version": "3.9.7"
  },
  "orig_nbformat": 4,
  "vscode": {
   "interpreter": {
    "hash": "e4cce46d6be9934fbd27f9ca0432556941ea5bdf741d4f4d64c6cd7f8dfa8fba"
   }
  }
 },
 "nbformat": 4,
 "nbformat_minor": 2
}
