{
 "cells": [
  {
   "cell_type": "code",
   "execution_count": 44,
   "metadata": {},
   "outputs": [],
   "source": [
    "n = 10\n",
    "pick = 5"
   ]
  },
  {
   "cell_type": "code",
   "execution_count": 45,
   "metadata": {},
   "outputs": [],
   "source": [
    "def guessNumber(n):\n",
    "\n",
    "    # 1 if guess is lower than pick\n",
    "    # -1 if guess is higher\n",
    "    # 0 if guess is correct\n",
    "\n",
    "    def guess(x):\n",
    "        number = pick\n",
    "        if x == number:\n",
    "            return 0\n",
    "        if x < number:\n",
    "            return 1\n",
    "        if x > number:\n",
    "            return -1\n",
    "\n",
    "\n",
    "    left = 1\n",
    "    right = n+1\n",
    "\n",
    "    while left < right:\n",
    "        mid = left + (right - left) //2\n",
    "        if guess(mid) == 0:\n",
    "            return mid\n",
    "        if guess(mid) == -1:\n",
    "            right = mid\n",
    "        if guess(mid) == 1:\n",
    "            left = mid\n",
    "\n",
    "    return right"
   ]
  },
  {
   "cell_type": "code",
   "execution_count": 46,
   "metadata": {},
   "outputs": [
    {
     "data": {
      "text/plain": [
       "5"
      ]
     },
     "execution_count": 46,
     "metadata": {},
     "output_type": "execute_result"
    }
   ],
   "source": [
    "guessNumber(n=n)"
   ]
  },
  {
   "cell_type": "code",
   "execution_count": null,
   "metadata": {},
   "outputs": [],
   "source": []
  }
 ],
 "metadata": {
  "kernelspec": {
   "display_name": "Python 3.9.7 ('base')",
   "language": "python",
   "name": "python3"
  },
  "language_info": {
   "codemirror_mode": {
    "name": "ipython",
    "version": 3
   },
   "file_extension": ".py",
   "mimetype": "text/x-python",
   "name": "python",
   "nbconvert_exporter": "python",
   "pygments_lexer": "ipython3",
   "version": "3.9.7"
  },
  "orig_nbformat": 4,
  "vscode": {
   "interpreter": {
    "hash": "e4cce46d6be9934fbd27f9ca0432556941ea5bdf741d4f4d64c6cd7f8dfa8fba"
   }
  }
 },
 "nbformat": 4,
 "nbformat_minor": 2
}
