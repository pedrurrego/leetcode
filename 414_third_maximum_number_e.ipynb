{
 "cells": [
  {
   "cell_type": "code",
   "execution_count": 150,
   "metadata": {},
   "outputs": [],
   "source": [
    "nums = [1, 1, 2]"
   ]
  },
  {
   "cell_type": "code",
   "execution_count": 151,
   "metadata": {},
   "outputs": [],
   "source": [
    "def thirdMax_2(nums):\n",
    "\n",
    "\n",
    "    if len(nums) < 3:\n",
    "        return max(nums)\n",
    "\n",
    "    max_nums = []\n",
    "\n",
    "    first_max = -float('inf')\n",
    "\n",
    "    for i in range(len(nums)):\n",
    "        if nums[i] > first_max:\n",
    "            first_max = nums[i]\n",
    "\n",
    "    \n",
    "    max_nums.append(first_max)\n",
    "\n",
    "    second_max = -float('inf')\n",
    "\n",
    "    for i in range(len(nums)):\n",
    "        if nums[i] > second_max and nums[i] < first_max:\n",
    "            second_max = nums[i]\n",
    "\n",
    "    max_nums.append(second_max)\n",
    "\n",
    "    third_max = -float('inf')\n",
    "\n",
    "    for i in range(len(nums)):\n",
    "        if nums[i] > third_max and nums[i] < second_max:\n",
    "            third_max = nums[i]\n",
    "\n",
    "    max_nums.append(third_max)\n",
    "\n",
    "\n",
    "\n",
    "    if -float('inf') in max_nums:\n",
    "        if len(max_nums)==3:\n",
    "            return max(max_nums)\n",
    "        \n",
    "        else:\n",
    "            for i in range(len(max_nums)):\n",
    "                if max_nums[i] == -float('inf'):\n",
    "                    return max_nums[i-1]\n",
    "    \n",
    "    if len(max_nums) < 3:\n",
    "        return max(max_nums)\n",
    "\n",
    "\n",
    "    if len(max_nums) >= 3:\n",
    "        return max_nums[2]"
   ]
  },
  {
   "cell_type": "code",
   "execution_count": 152,
   "metadata": {},
   "outputs": [
    {
     "data": {
      "text/plain": [
       "2"
      ]
     },
     "execution_count": 152,
     "metadata": {},
     "output_type": "execute_result"
    }
   ],
   "source": [
    "thirdMax_2(nums=nums)"
   ]
  },
  {
   "cell_type": "code",
   "execution_count": null,
   "metadata": {},
   "outputs": [],
   "source": []
  }
 ],
 "metadata": {
  "kernelspec": {
   "display_name": "Python 3.9.7 ('base')",
   "language": "python",
   "name": "python3"
  },
  "language_info": {
   "name": "python",
   "version": "3.9.7"
  },
  "orig_nbformat": 4,
  "vscode": {
   "interpreter": {
    "hash": "e4cce46d6be9934fbd27f9ca0432556941ea5bdf741d4f4d64c6cd7f8dfa8fba"
   }
  }
 },
 "nbformat": 4,
 "nbformat_minor": 2
}
