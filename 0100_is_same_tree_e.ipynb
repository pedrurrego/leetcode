{
 "cells": [
  {
   "cell_type": "code",
   "execution_count": null,
   "metadata": {},
   "outputs": [],
   "source": [
    "# Definition for a binary tree node.\n",
    "# class TreeNode:\n",
    "#     def __init__(self, val=0, left=None, right=None):\n",
    "#         self.val = val\n",
    "#         self.left = left\n",
    "#         self.right = right\n",
    "class Solution:\n",
    "    def isSameTree(self, p: Optional[TreeNode], q: Optional[TreeNode]) -> bool: # Recursive\n",
    "        \n",
    "        if not p and not q:\n",
    "            return True\n",
    "        if not p or not q or p.val != q.val:\n",
    "            return False\n",
    "        \n",
    "        return (self.isSameTree(p.left,q.left)) and (self.isSameTree(p.right,q.right))"
   ]
  },
  {
   "cell_type": "code",
   "execution_count": null,
   "metadata": {},
   "outputs": [],
   "source": [
    "# Definition for a binary tree node.\n",
    "# class TreeNode:\n",
    "#     def __init__(self, val=0, left=None, right=None):\n",
    "#         self.val = val\n",
    "#         self.left = left\n",
    "#         self.right = right\n",
    "class Solution:\n",
    "    def isSameTree(self, p: Optional[TreeNode], q: Optional[TreeNode]) -> bool:\n",
    "        \n",
    "        if not p and not q:\n",
    "            return True\n",
    "        if not p or not q or p.val != q.val:\n",
    "            return False\n",
    "        \n",
    "        q_p = collections.deque()\n",
    "        q_p.append(p)\n",
    "        \n",
    "        q_q = collections.deque()\n",
    "        q_q.append(q)\n",
    "        \n",
    "        while q_p and q_q:       \n",
    "            node_p = q_p.popleft()\n",
    "            node_q = q_q.popleft()\n",
    "            \n",
    "            print(node_p)\n",
    "            print(node_q)\n",
    "                        \n",
    "            if not node_p or not node_q or node_p.val != node_q.val:\n",
    "                return False\n",
    "            \n",
    "            if node_p.left and node_q.left:\n",
    "                q_p.append(node_p.left)\n",
    "                q_q.append(node_q.left)\n",
    "                \n",
    "            elif node_p.left or node_q.left: # if both nodes are empty, nothing will added to the queues\n",
    "                return False\n",
    "\n",
    "            if node_p.right and node_q.right:\n",
    "                q_p.append(node_p.right)\n",
    "                q_q.append(node_q.right)\n",
    "                \n",
    "            elif node_p.right or node_q.right:\n",
    "                return False\n",
    "            \n",
    "        return True"
   ]
  }
 ],
 "metadata": {
  "kernelspec": {
   "display_name": "Python 3.9.7 ('base')",
   "language": "python",
   "name": "python3"
  },
  "language_info": {
   "name": "python",
   "version": "3.9.7"
  },
  "orig_nbformat": 4,
  "vscode": {
   "interpreter": {
    "hash": "e4cce46d6be9934fbd27f9ca0432556941ea5bdf741d4f4d64c6cd7f8dfa8fba"
   }
  }
 },
 "nbformat": 4,
 "nbformat_minor": 2
}
