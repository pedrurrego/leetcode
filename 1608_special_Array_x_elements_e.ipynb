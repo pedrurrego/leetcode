{
 "cells": [
  {
   "cell_type": "code",
   "execution_count": 157,
   "metadata": {},
   "outputs": [],
   "source": [
    "nums = [1,6,7,5,7,9,12,14,5,9,2,5,2,5,7,3,1,7,4,2,1,6,4,2,4,7,9,3,2,8,9,4,6,3,8,9,3,2,4,6,9,6,4,12,35,7,3,24,2,6,7,8,3,2,1,5,7,2,3,6,7,31,7,3,5,7,2,1,1]"
   ]
  },
  {
   "cell_type": "code",
   "execution_count": 158,
   "metadata": {},
   "outputs": [],
   "source": [
    "def specialArray(nums): # O(n2)\n",
    "\n",
    "    for i in range(len(nums)+1):\n",
    "        count = 0\n",
    "        for num in nums:\n",
    "\n",
    "            if num >= i:\n",
    "                count += 1\n",
    "\n",
    "        if count == i:\n",
    "            return i\n",
    "\n",
    "    return -1\n",
    "\n",
    "        "
   ]
  },
  {
   "cell_type": "code",
   "execution_count": 159,
   "metadata": {},
   "outputs": [
    {
     "data": {
      "text/plain": [
       "-1"
      ]
     },
     "execution_count": 159,
     "metadata": {},
     "output_type": "execute_result"
    }
   ],
   "source": [
    "specialArray(nums=nums)"
   ]
  },
  {
   "cell_type": "code",
   "execution_count": 160,
   "metadata": {},
   "outputs": [],
   "source": [
    "def specialArray_2(nums):\n",
    "\n",
    "    nums.sort()\n",
    "\n",
    "    for i in range(len(nums)+1):\n",
    "\n",
    "        left = -1\n",
    "        right = len(nums)\n",
    "\n",
    "        while left + 1 < right:\n",
    "            \n",
    "            mid = left + (right-left) // 2\n",
    "            if nums[mid] >= i:\n",
    "                right = mid\n",
    "            else:\n",
    "                left = mid\n",
    "    \n",
    "        count = len(nums[right:])\n",
    "        if count == i:\n",
    "            return i\n",
    "\n",
    "    return -1    "
   ]
  },
  {
   "cell_type": "code",
   "execution_count": 161,
   "metadata": {},
   "outputs": [
    {
     "data": {
      "text/plain": [
       "-1"
      ]
     },
     "execution_count": 161,
     "metadata": {},
     "output_type": "execute_result"
    }
   ],
   "source": [
    "specialArray_2(nums=nums)"
   ]
  },
  {
   "cell_type": "code",
   "execution_count": 124,
   "metadata": {},
   "outputs": [
    {
     "name": "stdout",
     "output_type": "stream",
     "text": [
      "[0, 0, 3, 4, 4]\n"
     ]
    }
   ],
   "source": [
    "x = [0,4,3,0,4]\n",
    "\n",
    "y = sorted(x)\n",
    "\n",
    "print(y)"
   ]
  },
  {
   "cell_type": "code",
   "execution_count": 141,
   "metadata": {},
   "outputs": [],
   "source": [
    "import time"
   ]
  },
  {
   "cell_type": "code",
   "execution_count": 144,
   "metadata": {},
   "outputs": [
    {
     "name": "stdout",
     "output_type": "stream",
     "text": [
      "997.5433349609375\n"
     ]
    }
   ],
   "source": [
    "start = time.time()\n",
    "specialArray(nums=nums)\n",
    "end = time.time()\n",
    "print((end-start)*1e6)\n",
    "\n",
    "\n",
    "\n",
    "\n"
   ]
  },
  {
   "cell_type": "code",
   "execution_count": 145,
   "metadata": {},
   "outputs": [
    {
     "name": "stdout",
     "output_type": "stream",
     "text": [
      "998.9738464355469\n"
     ]
    }
   ],
   "source": [
    "start = time.time()\n",
    "specialArray_2(nums=nums)\n",
    "end = time.time()\n",
    "print((end-start)*1e6)"
   ]
  },
  {
   "cell_type": "markdown",
   "metadata": {},
   "source": [
    "# Plotting Time Complexity"
   ]
  },
  {
   "cell_type": "code",
   "execution_count": 177,
   "metadata": {},
   "outputs": [],
   "source": [
    "import random\n",
    "import matplotlib.pyplot as plt\n",
    "import time"
   ]
  },
  {
   "cell_type": "code",
   "execution_count": 178,
   "metadata": {},
   "outputs": [
    {
     "data": {
      "text/plain": [
       "[<matplotlib.lines.Line2D at 0x252f84be760>]"
      ]
     },
     "execution_count": 178,
     "metadata": {},
     "output_type": "execute_result"
    },
    {
     "data": {
      "image/png": "[encoded data removed]",
      "text/plain": [
       "<Figure size 432x288 with 1 Axes>"
      ]
     },
     "metadata": {
      "needs_background": "light"
     },
     "output_type": "display_data"
    }
   ],
   "source": [
    "size_n = []\n",
    "sol_1 = []\n",
    "sol_2 = []\n",
    "\n",
    "for k in range(1, 2000, 100):\n",
    "    arr = [random.randint(0,2000) for i in range(k+1)]\n",
    "    # start = time.time()\n",
    "    # specialArray(arr)\n",
    "    # sol_1.append(round(time.time()-start, 6))\n",
    "\n",
    "    start_2 = time.time()\n",
    "    specialArray_2(arr)\n",
    "    sol_2.append(round(time.time()-start_2, 6))\n",
    "\n",
    "    size_n.append(k+1)\n",
    "\n",
    "#plt.plot(size_n, sol_1, 'o')\n",
    "plt.plot(size_n, sol_2, 'o')\n",
    "\n"
   ]
  },
  {
   "cell_type": "code",
   "execution_count": null,
   "metadata": {},
   "outputs": [],
   "source": []
  }
 ],
 "metadata": {
  "kernelspec": {
   "display_name": "Python 3.9.7 ('base')",
   "language": "python",
   "name": "python3"
  },
  "language_info": {
   "codemirror_mode": {
    "name": "ipython",
    "version": 3
   },
   "file_extension": ".py",
   "mimetype": "text/x-python",
   "name": "python",
   "nbconvert_exporter": "python",
   "pygments_lexer": "ipython3",
   "version": "3.9.7"
  },
  "orig_nbformat": 4,
  "vscode": {
   "interpreter": {
    "hash": "e4cce46d6be9934fbd27f9ca0432556941ea5bdf741d4f4d64c6cd7f8dfa8fba"
   }
  }
 },
 "nbformat": 4,
 "nbformat_minor": 2
}
