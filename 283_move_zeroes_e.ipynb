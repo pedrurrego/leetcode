{
 "cells": [
  {
   "cell_type": "code",
   "execution_count": 65,
   "metadata": {},
   "outputs": [],
   "source": [
    "nums = [5,0,1,0,3,15,0,4,9, 0, 0]\n",
    "\n",
    "#nums = [0]\n",
    "\n",
    "#nums = [0,1,0,3,12]"
   ]
  },
  {
   "cell_type": "code",
   "execution_count": 66,
   "metadata": {},
   "outputs": [],
   "source": [
    "def moveZeroes(nums):\n",
    "\n",
    "    pos_zeros = []\n",
    "    output = []\n",
    "\n",
    "    for i in range(len(nums)): # encontrar las posiciones donde hay zeros\n",
    "        if nums[i]==0:\n",
    "            pos_zeros.append(i)\n",
    "\n",
    "    for i in range(0, pos_zeros[0]): # llenar los valores antes del primer zero\n",
    "        output.append(nums[i])\n",
    "\n",
    "    for i in range(len(pos_zeros)-1): # llenar los valores entre el primer y el último zero\n",
    "        for j in range(pos_zeros[i]+1, pos_zeros[i+1]):\n",
    "            #print(j)\n",
    "            output.append(nums[j])\n",
    "\n",
    "\n",
    "    for i in range(pos_zeros[-1]+1, len(nums)): # llenar los valores después del último zero\n",
    "        output.append(nums[i])\n",
    "\n",
    "    for i in range(len(pos_zeros)):\n",
    "        output.append(0)\n",
    "\n",
    "    return output"
   ]
  },
  {
   "cell_type": "code",
   "execution_count": 67,
   "metadata": {},
   "outputs": [
    {
     "data": {
      "text/plain": [
       "[5, 1, 3, 15, 4, 9, 0, 0, 0, 0, 0]"
      ]
     },
     "execution_count": 67,
     "metadata": {},
     "output_type": "execute_result"
    }
   ],
   "source": [
    "moveZeroes(nums=nums)"
   ]
  },
  {
   "cell_type": "code",
   "execution_count": 68,
   "metadata": {},
   "outputs": [],
   "source": [
    "def moveZeroes_2(nums): # In-place, without creating copies of the original array:\n",
    "\n",
    "    c = nums.count(0)\n",
    "\n",
    "    for i in range(c):\n",
    "        nums.remove(0)\n",
    "        nums.append(0)\n",
    "\n",
    "    return nums\n"
   ]
  },
  {
   "cell_type": "code",
   "execution_count": 69,
   "metadata": {},
   "outputs": [
    {
     "data": {
      "text/plain": [
       "[5, 1, 3, 15, 4, 9, 0, 0, 0, 0, 0]"
      ]
     },
     "execution_count": 69,
     "metadata": {},
     "output_type": "execute_result"
    }
   ],
   "source": [
    "moveZeroes_2(nums=nums)"
   ]
  },
  {
   "cell_type": "code",
   "execution_count": null,
   "metadata": {},
   "outputs": [],
   "source": []
  }
 ],
 "metadata": {
  "kernelspec": {
   "display_name": "Python 3.9.7 ('base')",
   "language": "python",
   "name": "python3"
  },
  "language_info": {
   "codemirror_mode": {
    "name": "ipython",
    "version": 3
   },
   "file_extension": ".py",
   "mimetype": "text/x-python",
   "name": "python",
   "nbconvert_exporter": "python",
   "pygments_lexer": "ipython3",
   "version": "3.9.7"
  },
  "orig_nbformat": 4,
  "vscode": {
   "interpreter": {
    "hash": "e4cce46d6be9934fbd27f9ca0432556941ea5bdf741d4f4d64c6cd7f8dfa8fba"
   }
  }
 },
 "nbformat": 4,
 "nbformat_minor": 2
}
