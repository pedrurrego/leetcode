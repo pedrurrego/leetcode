{
 "cells": [
  {
   "cell_type": "code",
   "execution_count": null,
   "metadata": {},
   "outputs": [],
   "source": [
    "# Definition for singly-linked list.\n",
    "# class ListNode:\n",
    "#     def __init__(self, val=0, next=None):\n",
    "#         self.val = val\n",
    "#         self.next = next\n",
    "class Solution:\n",
    "    def mergeTwoLists(self, list1: Optional[ListNode], list2: Optional[ListNode]) -> Optional[ListNode]:\n",
    "        \n",
    "        curr = ListNode()\n",
    "        head = curr\n",
    "        \n",
    "        \n",
    "        \n",
    "        while list1 and list2:\n",
    "            \n",
    "            if list1.val < list2.val:\n",
    "                \n",
    "                curr.next = list1\n",
    "                list1 = list1.next\n",
    "                \n",
    "            else:\n",
    "                curr.next = list2\n",
    "                list2 = list2.next\n",
    "            \n",
    "            curr = curr.next\n",
    "        \n",
    "        \n",
    "        if list1:\n",
    "            curr.next = list1\n",
    "        \n",
    "        else:\n",
    "            curr.next = list2\n",
    "            \n",
    "        \n",
    "        return head.next"
   ]
  }
 ],
 "metadata": {
  "language_info": {
   "name": "python"
  },
  "orig_nbformat": 4
 },
 "nbformat": 4,
 "nbformat_minor": 2
}
