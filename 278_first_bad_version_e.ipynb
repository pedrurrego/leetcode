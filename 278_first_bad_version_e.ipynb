{
 "cells": [
  {
   "cell_type": "code",
   "execution_count": 7,
   "metadata": {},
   "outputs": [],
   "source": [
    "n = 2126753390\n",
    "bad = 1702766719\n",
    "\n",
    "# n = 5\n",
    "# bad = 4"
   ]
  },
  {
   "cell_type": "code",
   "execution_count": 43,
   "metadata": {},
   "outputs": [],
   "source": [
    "def firstBadVersion(n, bad):\n",
    "\n",
    "    def isBadVersion(x):\n",
    "        return x >= bad\n",
    "\n",
    "    #############\n",
    "\n",
    "    if n==1:\n",
    "        return 1\n",
    "\n",
    "    if isBadVersion(n//2):\n",
    "        p1 = 1\n",
    "        p2 = n//2\n",
    "    \n",
    "    else:\n",
    "        p1 = n//2\n",
    "        p2 = n\n",
    "\n",
    "    while p1<=p2:\n",
    "        print('p1', p1, ' p2', p2)\n",
    "        if isBadVersion(p1):\n",
    "            return p1\n",
    "        if isBadVersion(p2) and not isBadVersion(p2-1):\n",
    "            return p2\n",
    "        else:\n",
    "            p1 +=1\n",
    "            p2 -=1\n"
   ]
  },
  {
   "cell_type": "code",
   "execution_count": 54,
   "metadata": {},
   "outputs": [
    {
     "name": "stdout",
     "output_type": "stream",
     "text": [
      "p1 1  p2 3\n"
     ]
    },
    {
     "data": {
      "text/plain": [
       "3"
      ]
     },
     "execution_count": 54,
     "metadata": {},
     "output_type": "execute_result"
    }
   ],
   "source": [
    "firstBadVersion(n=n, bad=bad)"
   ]
  },
  {
   "cell_type": "code",
   "execution_count": 55,
   "metadata": {},
   "outputs": [],
   "source": [
    "def firstBadVersion_2(n, bad):\n",
    "\n",
    "    def isBadVersion(x):\n",
    "        return x >= bad\n",
    "\n",
    "    #############\n",
    "\n",
    "\n",
    "    left = 1\n",
    "    right = n\n",
    "\n",
    "    while left <= right:\n",
    "        pivot = left + (right - left) // 2\n",
    "\n",
    "        if isBadVersion(pivot) and not isBadVersion(pivot-1):\n",
    "            return pivot\n",
    "\n",
    "        if isBadVersion(pivot)==True:\n",
    "            right = pivot - 1\n",
    "        else:\n",
    "            left = pivot + 1 \n"
   ]
  },
  {
   "cell_type": "code",
   "execution_count": 56,
   "metadata": {},
   "outputs": [
    {
     "data": {
      "text/plain": [
       "3"
      ]
     },
     "execution_count": 56,
     "metadata": {},
     "output_type": "execute_result"
    }
   ],
   "source": [
    "firstBadVersion_2(n=n, bad=bad)"
   ]
  },
  {
   "cell_type": "code",
   "execution_count": 8,
   "metadata": {},
   "outputs": [],
   "source": [
    "def firstBadVersion_3(n, bad):\n",
    "\n",
    "    def isBadVersion(x):\n",
    "        return x >= bad\n",
    "\n",
    "    #############\n",
    "\n",
    "    left = -1\n",
    "    right = n\n",
    "\n",
    "    while left + 1 < right:\n",
    "        mid = left + (right-left) // 2\n",
    "\n",
    "        if isBadVersion(mid):\n",
    "            right = mid\n",
    "\n",
    "        else:\n",
    "            left = mid\n",
    "\n",
    "    return right\n",
    "\n",
    "\n",
    "\n",
    "\n",
    "    "
   ]
  },
  {
   "cell_type": "code",
   "execution_count": 9,
   "metadata": {},
   "outputs": [
    {
     "data": {
      "text/plain": [
       "1702766719"
      ]
     },
     "execution_count": 9,
     "metadata": {},
     "output_type": "execute_result"
    }
   ],
   "source": [
    "firstBadVersion_3(n=n, bad=bad)"
   ]
  },
  {
   "cell_type": "code",
   "execution_count": null,
   "metadata": {},
   "outputs": [],
   "source": []
  }
 ],
 "metadata": {
  "kernelspec": {
   "display_name": "Python 3.9.7 ('base')",
   "language": "python",
   "name": "python3"
  },
  "language_info": {
   "codemirror_mode": {
    "name": "ipython",
    "version": 3
   },
   "file_extension": ".py",
   "mimetype": "text/x-python",
   "name": "python",
   "nbconvert_exporter": "python",
   "pygments_lexer": "ipython3",
   "version": "3.9.7"
  },
  "orig_nbformat": 4,
  "vscode": {
   "interpreter": {
    "hash": "e4cce46d6be9934fbd27f9ca0432556941ea5bdf741d4f4d64c6cd7f8dfa8fba"
   }
  }
 },
 "nbformat": 4,
 "nbformat_minor": 2
}
