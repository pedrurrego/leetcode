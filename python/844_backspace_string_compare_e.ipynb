{
 "cells": [
  {
   "cell_type": "code",
   "execution_count": 79,
   "metadata": {},
   "outputs": [],
   "source": [
    "s = \"ab##\"\n",
    "t = \"ad#c\""
   ]
  },
  {
   "cell_type": "code",
   "execution_count": 82,
   "metadata": {},
   "outputs": [],
   "source": [
    "def backspaceCompare(s, t):\n",
    "    stack = []\n",
    "\n",
    "    for char in s:\n",
    "\n",
    "        if char == '#' and stack:\n",
    "            stack.pop()\n",
    "\n",
    "        if char != '#':\n",
    "            stack.append(char)\n",
    "\n",
    "    s_end =\"\"\n",
    "    for char in stack:\n",
    "        s_end+=char\n",
    "\n",
    "\n",
    "    stack_t = []\n",
    "\n",
    "    for char in t:\n",
    "\n",
    "        if char == '#' and stack_t:\n",
    "            stack_t.pop()\n",
    "\n",
    "        if char != '#':\n",
    "            stack_t.append(char)\n",
    "\n",
    "    t_end =\"\"\n",
    "    for char in stack_t:\n",
    "        t_end+=char\n",
    "\n",
    "\n",
    "\n",
    "\n",
    "    return True if s_end==t_end else False\n",
    "    #return s_end, t_end\n",
    "    "
   ]
  },
  {
   "cell_type": "code",
   "execution_count": 83,
   "metadata": {},
   "outputs": [
    {
     "data": {
      "text/plain": [
       "True"
      ]
     },
     "execution_count": 83,
     "metadata": {},
     "output_type": "execute_result"
    }
   ],
   "source": [
    "backspaceCompare(s=s, t=t)"
   ]
  },
  {
   "cell_type": "code",
   "execution_count": 71,
   "metadata": {},
   "outputs": [
    {
     "data": {
      "text/plain": [
       "'ac'"
      ]
     },
     "execution_count": 71,
     "metadata": {},
     "output_type": "execute_result"
    }
   ],
   "source": [
    "a = 'ab#c'\n",
    "\n",
    "stack = []\n",
    "\n",
    "for char in a:\n",
    "    s = \"\"\n",
    "\n",
    "    if char == '#' and stack:\n",
    "        stack.pop()\n",
    "        #return s\n",
    "\n",
    "    if char != '#':\n",
    "        stack.append(char)\n",
    "\n",
    "w =\"\"\n",
    "for char in stack:\n",
    "    w+=char\n",
    "\n",
    "\n",
    "w\n"
   ]
  },
  {
   "cell_type": "code",
   "execution_count": 86,
   "metadata": {},
   "outputs": [
    {
     "name": "stdout",
     "output_type": "stream",
     "text": [
      "-\n",
      "3\n",
      "5\n",
      "2\n"
     ]
    }
   ],
   "source": [
    "x = -352\n",
    "\n",
    "x_str = str(x)\n",
    "\n",
    "for i in x_str:\n",
    "    print(i)"
   ]
  },
  {
   "cell_type": "code",
   "execution_count": null,
   "metadata": {},
   "outputs": [],
   "source": []
  }
 ],
 "metadata": {
  "kernelspec": {
   "display_name": "Python 3.9.7 ('base')",
   "language": "python",
   "name": "python3"
  },
  "language_info": {
   "codemirror_mode": {
    "name": "ipython",
    "version": 3
   },
   "file_extension": ".py",
   "mimetype": "text/x-python",
   "name": "python",
   "nbconvert_exporter": "python",
   "pygments_lexer": "ipython3",
   "version": "3.9.7"
  },
  "orig_nbformat": 4,
  "vscode": {
   "interpreter": {
    "hash": "e4cce46d6be9934fbd27f9ca0432556941ea5bdf741d4f4d64c6cd7f8dfa8fba"
   }
  }
 },
 "nbformat": 4,
 "nbformat_minor": 2
}
