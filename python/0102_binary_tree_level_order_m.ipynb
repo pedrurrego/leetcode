{
 "cells": [
  {
   "cell_type": "code",
   "execution_count": null,
   "metadata": {},
   "outputs": [],
   "source": [
    "# Definition for a binary tree node.\n",
    "# class TreeNode:\n",
    "#     def __init__(self, val=0, left=None, right=None):\n",
    "#         self.val = val\n",
    "#         self.left = left\n",
    "#         self.right = right\n",
    "'''           1\n",
    "           /  |  \\\n",
    "         /         \\\n",
    "       2            3\n",
    "    /  |  \\      /  |  \\\n",
    "   4       5    6       7\n",
    "   |       |    |       |      \n",
    "''' # [[1],[2,3],[4,5,6,7]]\n",
    "\n",
    "class Solution:\n",
    "    def levelOrder(self, root: Optional[TreeNode]) -> List[List[int]]:\n",
    "        \n",
    "        res = []\n",
    "        queue = collections.deque()\n",
    "        queue.append(root)\n",
    "        \n",
    "        while queue:\n",
    "            len_queue = len(queue)\n",
    "            level = []\n",
    "            for i in range(len_queue):\n",
    "                node = queue.popleft()\n",
    "                if node:\n",
    "                    level.append(node.val)\n",
    "                    queue.append(node.left)\n",
    "                    queue.append(node.right)\n",
    "            \n",
    "            if level:\n",
    "                res.append(level)\n",
    "        \n",
    "        return res"
   ]
  }
 ],
 "metadata": {
  "language_info": {
   "name": "python"
  },
  "orig_nbformat": 4
 },
 "nbformat": 4,
 "nbformat_minor": 2
}
