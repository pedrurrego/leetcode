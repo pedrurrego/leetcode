{
 "cells": [
  {
   "cell_type": "code",
   "execution_count": null,
   "metadata": {},
   "outputs": [],
   "source": [
    "# Definition for a binary tree node.\n",
    "# class TreeNode:\n",
    "#     def __init__(self, val=0, left=None, right=None):\n",
    "#         self.val = val\n",
    "#         self.left = left\n",
    "#         self.right = right\n",
    "class Solution:\n",
    "    def rangeSumBST(self, root: Optional[TreeNode], low: int, high: int) -> int:\n",
    "        \n",
    "        queue = collections.deque()\n",
    "        \n",
    "        queue.append(root)\n",
    "        \n",
    "        res = []\n",
    "        \n",
    "        while queue:\n",
    "            \n",
    "            node = queue.popleft()\n",
    "            \n",
    "            if node:\n",
    "                \n",
    "                if node.val<= high and node.val >=low:\n",
    "                    res.append(node.val)\n",
    "                \n",
    "                queue.append(node.left)\n",
    "                queue.append(node.right)\n",
    "                \n",
    "        return sum(res)"
   ]
  }
 ],
 "metadata": {
  "language_info": {
   "name": "python"
  },
  "orig_nbformat": 4
 },
 "nbformat": 4,
 "nbformat_minor": 2
}
