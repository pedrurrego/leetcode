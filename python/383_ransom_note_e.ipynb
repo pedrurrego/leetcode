{
 "cells": [
  {
   "cell_type": "code",
   "execution_count": 25,
   "metadata": {},
   "outputs": [],
   "source": [
    "ransomNote = \"aa\"\n",
    "magazine = \"aab\""
   ]
  },
  {
   "cell_type": "code",
   "execution_count": 26,
   "metadata": {},
   "outputs": [],
   "source": [
    "def canConstruct(ransomNote, magazine): # return True if ransomNote can be constructed using the letters from magazine, false otherwise\n",
    "\n",
    "    if len(ransomNote) > len(magazine): #if ransomNote has more characters than magazine, false automatically\n",
    "        return False\n",
    "\n",
    "    dict_mag = {}\n",
    "\n",
    "    for char in magazine: # fill dict_mag, where keys are the letters in magazine and values are the number of times each letter appears\n",
    "        dict_mag[char] = 1 + dict_mag.get(char, 0)\n",
    "\n",
    "\n",
    "    for char in ransomNote:\n",
    "        if char not in dict_mag: #if a character is not in dict_mag, we can directly return False\n",
    "            return False\n",
    "        else:\n",
    "            dict_mag[char] -= 1\n",
    "            if dict_mag[char] < 0: # if a character appears more times in ransomNote than in magazine, we will return False\n",
    "                return False\n",
    "    \n",
    "    return True "
   ]
  },
  {
   "cell_type": "code",
   "execution_count": 27,
   "metadata": {},
   "outputs": [
    {
     "data": {
      "text/plain": [
       "True"
      ]
     },
     "execution_count": 27,
     "metadata": {},
     "output_type": "execute_result"
    }
   ],
   "source": [
    "canConstruct(ransomNote=ransomNote, magazine=magazine)"
   ]
  },
  {
   "cell_type": "code",
   "execution_count": null,
   "metadata": {},
   "outputs": [],
   "source": []
  }
 ],
 "metadata": {
  "kernelspec": {
   "display_name": "Python 3.9.7 ('base')",
   "language": "python",
   "name": "python3"
  },
  "language_info": {
   "codemirror_mode": {
    "name": "ipython",
    "version": 3
   },
   "file_extension": ".py",
   "mimetype": "text/x-python",
   "name": "python",
   "nbconvert_exporter": "python",
   "pygments_lexer": "ipython3",
   "version": "3.9.7"
  },
  "orig_nbformat": 4,
  "vscode": {
   "interpreter": {
    "hash": "e4cce46d6be9934fbd27f9ca0432556941ea5bdf741d4f4d64c6cd7f8dfa8fba"
   }
  }
 },
 "nbformat": 4,
 "nbformat_minor": 2
}
