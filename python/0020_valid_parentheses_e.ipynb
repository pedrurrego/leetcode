{
 "cells": [
  {
   "cell_type": "code",
   "execution_count": 38,
   "metadata": {},
   "outputs": [],
   "source": [
    "s = \"()[]{}\""
   ]
  },
  {
   "cell_type": "code",
   "execution_count": 39,
   "metadata": {},
   "outputs": [],
   "source": [
    "def isValid(s):\n",
    "\n",
    "    dict_chars = {')':'(', ']':'[', '}':'{'}\n",
    "\n",
    "    list_op = []\n",
    "\n",
    "    for char in s:\n",
    "        if char in dict_chars and not list_op: #if we have a closing char AND our list_op is empty, we can directly return False\n",
    "            return False\n",
    "        \n",
    "        if char not in dict_chars: #if we get opening char, we can append it to the list\n",
    "            list_op.append(char)\n",
    "\n",
    "        if char in dict_chars and list_op: #if we get a closing char AND our list_op has values, we can start to see if they match each other\n",
    "            if list_op[-1] == dict_chars[char]: #if we get matching chars\n",
    "                list_op.pop()\n",
    "            else:\n",
    "                return False\n",
    "\n",
    "    if list_op:\n",
    "        return False\n",
    "    else:\n",
    "        return True"
   ]
  },
  {
   "cell_type": "code",
   "execution_count": 40,
   "metadata": {},
   "outputs": [
    {
     "data": {
      "text/plain": [
       "True"
      ]
     },
     "execution_count": 40,
     "metadata": {},
     "output_type": "execute_result"
    }
   ],
   "source": [
    "isValid(s=s)"
   ]
  },
  {
   "cell_type": "code",
   "execution_count": null,
   "metadata": {},
   "outputs": [],
   "source": []
  }
 ],
 "metadata": {
  "kernelspec": {
   "display_name": "Python 3.9.7 ('base')",
   "language": "python",
   "name": "python3"
  },
  "language_info": {
   "codemirror_mode": {
    "name": "ipython",
    "version": 3
   },
   "file_extension": ".py",
   "mimetype": "text/x-python",
   "name": "python",
   "nbconvert_exporter": "python",
   "pygments_lexer": "ipython3",
   "version": "3.9.7"
  },
  "orig_nbformat": 4,
  "vscode": {
   "interpreter": {
    "hash": "e4cce46d6be9934fbd27f9ca0432556941ea5bdf741d4f4d64c6cd7f8dfa8fba"
   }
  }
 },
 "nbformat": 4,
 "nbformat_minor": 2
}
