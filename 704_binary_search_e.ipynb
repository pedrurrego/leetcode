{
 "cells": [
  {
   "cell_type": "code",
   "execution_count": 41,
   "metadata": {},
   "outputs": [],
   "source": [
    "nums = [-1,0,3,5,9,12] \n",
    "target = 13"
   ]
  },
  {
   "cell_type": "code",
   "execution_count": 42,
   "metadata": {},
   "outputs": [],
   "source": [
    "def search(nums, target):\n",
    "\n",
    "    l = len(nums)\n",
    "\n",
    "    if nums[l//2] < target:\n",
    "        p1 = l//2\n",
    "        p2 = l - 1\n",
    "    else:\n",
    "        p1 = 0\n",
    "        p2 = l//2\n",
    "\n",
    "    while p1 <= p2:\n",
    "        if nums[p1]==target: # or nums[p2]==target:\n",
    "            return p1\n",
    "\n",
    "        elif nums[p2]==target:\n",
    "            return p2\n",
    "        \n",
    "        else:\n",
    "            p1 +=1\n",
    "            p2 -=1\n",
    "    return -1"
   ]
  },
  {
   "cell_type": "code",
   "execution_count": 43,
   "metadata": {},
   "outputs": [
    {
     "data": {
      "text/plain": [
       "-1"
      ]
     },
     "execution_count": 43,
     "metadata": {},
     "output_type": "execute_result"
    }
   ],
   "source": [
    "search(nums=nums, target=target)"
   ]
  },
  {
   "cell_type": "code",
   "execution_count": null,
   "metadata": {},
   "outputs": [],
   "source": []
  }
 ],
 "metadata": {
  "kernelspec": {
   "display_name": "Python 3.9.7 ('base')",
   "language": "python",
   "name": "python3"
  },
  "language_info": {
   "codemirror_mode": {
    "name": "ipython",
    "version": 3
   },
   "file_extension": ".py",
   "mimetype": "text/x-python",
   "name": "python",
   "nbconvert_exporter": "python",
   "pygments_lexer": "ipython3",
   "version": "3.9.7"
  },
  "orig_nbformat": 4,
  "vscode": {
   "interpreter": {
    "hash": "e4cce46d6be9934fbd27f9ca0432556941ea5bdf741d4f4d64c6cd7f8dfa8fba"
   }
  }
 },
 "nbformat": 4,
 "nbformat_minor": 2
}
