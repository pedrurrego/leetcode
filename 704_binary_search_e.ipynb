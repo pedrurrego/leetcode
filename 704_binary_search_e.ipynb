{
 "cells": [
  {
   "cell_type": "code",
   "execution_count": 19,
   "metadata": {},
   "outputs": [],
   "source": [
    "nums = [-1,0,3,5,9,12]\n",
    "target = 5"
   ]
  },
  {
   "cell_type": "code",
   "execution_count": 20,
   "metadata": {},
   "outputs": [],
   "source": [
    "def search(nums, target):\n",
    "\n",
    "    l = len(nums)\n",
    "\n",
    "    if nums[l//2] < target:\n",
    "        p1 = l//2\n",
    "        p2 = l - 1\n",
    "    else:\n",
    "        p1 = 0\n",
    "        p2 = l//2\n",
    "\n",
    "    while p1 <= p2:\n",
    "        if nums[p1]==target: # or nums[p2]==target:\n",
    "            return p1\n",
    "\n",
    "        elif nums[p2]==target:\n",
    "            return p2\n",
    "        \n",
    "        else:\n",
    "            p1 +=1\n",
    "            p2 -=1\n",
    "    return -1"
   ]
  },
  {
   "cell_type": "code",
   "execution_count": 21,
   "metadata": {},
   "outputs": [
    {
     "data": {
      "text/plain": [
       "3"
      ]
     },
     "execution_count": 21,
     "metadata": {},
     "output_type": "execute_result"
    }
   ],
   "source": [
    "search(nums=nums, target=target)"
   ]
  },
  {
   "cell_type": "code",
   "execution_count": 24,
   "metadata": {},
   "outputs": [],
   "source": [
    "def search_2(nums, target):\n",
    "    \n",
    "    l = len(nums)\n",
    "    left = 0\n",
    "    right = l - 1\n",
    "\n",
    "    while left <= right:\n",
    "\n",
    "        pivot = left + (right-left)//2\n",
    "        print('left', left, ' right', right, ' pivot', pivot)\n",
    "        if nums[pivot] == target:\n",
    "            return pivot\n",
    "        if nums[pivot] > target:\n",
    "            right = pivot - 1\n",
    "        \n",
    "        if nums[pivot] < target:\n",
    "            left = pivot + 1\n",
    "    \n",
    "    return -1"
   ]
  },
  {
   "cell_type": "code",
   "execution_count": 25,
   "metadata": {},
   "outputs": [
    {
     "name": "stdout",
     "output_type": "stream",
     "text": [
      "left 0  right 5  pivot 2\n",
      "left 3  right 5  pivot 4\n",
      "left 3  right 3  pivot 3\n"
     ]
    },
    {
     "data": {
      "text/plain": [
       "3"
      ]
     },
     "execution_count": 25,
     "metadata": {},
     "output_type": "execute_result"
    }
   ],
   "source": [
    "search_2(nums=nums, target=target)"
   ]
  },
  {
   "cell_type": "code",
   "execution_count": null,
   "metadata": {},
   "outputs": [],
   "source": []
  }
 ],
 "metadata": {
  "kernelspec": {
   "display_name": "Python 3.9.7 ('base')",
   "language": "python",
   "name": "python3"
  },
  "language_info": {
   "codemirror_mode": {
    "name": "ipython",
    "version": 3
   },
   "file_extension": ".py",
   "mimetype": "text/x-python",
   "name": "python",
   "nbconvert_exporter": "python",
   "pygments_lexer": "ipython3",
   "version": "3.9.7"
  },
  "orig_nbformat": 4,
  "vscode": {
   "interpreter": {
    "hash": "e4cce46d6be9934fbd27f9ca0432556941ea5bdf741d4f4d64c6cd7f8dfa8fba"
   }
  }
 },
 "nbformat": 4,
 "nbformat_minor": 2
}
